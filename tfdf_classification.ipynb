{
 "cells": [
  {
   "cell_type": "markdown",
   "id": "a77911c0-045f-45b4-ab94-b9a9c05fd81a",
   "metadata": {},
   "source": [
    "## Code Implementation\n",
    "\n",
    "Some information on Decision Forests and Gradient Boosted Trees: \n",
    "\n",
    " - Decision Forests are a family of algorithms built from many decision trees\n",
    " - TensorFlow Decision Forests allow us to train Random Forest or Gradient Boosted Trees using the familiar TensorFlow API.\n",
    " - Gradient Boosted Trees combines weak learners (usually decision trees with only one split, called decision stumps) sequentially, so that each new tree corrects the errors of the previous one. \n",
    "\n",
    "For the implementation part of the Decision Forest model, we will train a Gradient Boosted Trees model on the tabular 'dfDatabase.csv' file. The objective is to determine if a certain area/pixel is attributed as an Area-of-Concern for different reasons. The dataset contains numerical features and the model is designed as a classification model type."
   ]
  },
  {
   "cell_type": "markdown",
   "id": "6bd93a49-8952-4772-9ce1-dfc2f54c8c11",
   "metadata": {},
   "source": [
    "### 1. Gradient Boosted Trees Model\n",
    "We begin by importing all the necessary libraries:"
   ]
  },
  {
   "cell_type": "code",
   "execution_count": 1,
   "id": "a85db9d8-7d02-47aa-b2aa-15fe4cee0db9",
   "metadata": {
    "execution": {
     "iopub.execute_input": "2023-08-29T18:25:46.980095Z",
     "iopub.status.busy": "2023-08-29T18:25:46.979935Z",
     "iopub.status.idle": "2023-08-29T18:25:51.049297Z",
     "shell.execute_reply": "2023-08-29T18:25:51.048871Z",
     "shell.execute_reply.started": "2023-08-29T18:25:46.980084Z"
    },
    "tags": []
   },
   "outputs": [
    {
     "name": "stderr",
     "output_type": "stream",
     "text": [
      "2023-08-29 20:25:48.534049: I tensorflow/core/platform/cpu_feature_guard.cc:182] This TensorFlow binary is optimized to use available CPU instructions in performance-critical operations.\n",
      "To enable the following instructions: AVX2 FMA, in other operations, rebuild TensorFlow with the appropriate compiler flags.\n",
      "2023-08-29 20:25:49.499791: W tensorflow/compiler/tf2tensorrt/utils/py_utils.cc:38] TF-TRT Warning: Could not find TensorRT\n"
     ]
    }
   ],
   "source": [
    "# Importing all the dependencies\n",
    "import datetime, os, shutil, gc, math, warnings\n",
    "import netCDF4 as nc\n",
    "import numpy as np\n",
    "import pandas as pd\n",
    "import xarray as xr\n",
    "import matplotlib.pyplot as plt\n",
    "import matplotlib.patheffects as pe\n",
    "from matplotlib.patches import Rectangle\n",
    "from matplotlib import colors as c\n",
    "from mycolorpy import colorlist as mcp\n",
    "import seaborn as sns\n",
    "import tensorflow as tf\n",
    "import tensorflow_datasets as tfds\n",
    "import tensorflow_decision_forests as tfdf\n",
    "import keras\n",
    "import keras_tuner\n",
    "from keras import Input, Model\n",
    "from keras.utils import plot_model\n",
    "from keras.layers import Dense,Flatten,Reshape,Concatenate,Add,Multiply,Lambda,BatchNormalization,Activation,Dropout\n",
    "from keras.models import Sequential, load_model\n",
    "from keras.callbacks import EarlyStopping,ModelCheckpoint,ReduceLROnPlateau,LearningRateScheduler,TensorBoard\n",
    "from sklearn.model_selection import train_test_split\n",
    "from sklearn.pipeline import make_pipeline\n",
    "from sklearn.metrics import mean_squared_error,confusion_matrix,ConfusionMatrixDisplay\n",
    "from sklearn.preprocessing import StandardScaler,MinMaxScaler\n",
    "from IPython.display import Image, IFrame"
   ]
  },
  {
   "cell_type": "code",
   "execution_count": 2,
   "id": "0cf28cdd-a079-4627-b9d3-a25d3cad20e2",
   "metadata": {
    "execution": {
     "iopub.execute_input": "2023-08-29T18:25:51.054613Z",
     "iopub.status.busy": "2023-08-29T18:25:51.054483Z",
     "iopub.status.idle": "2023-08-29T18:25:51.276559Z",
     "shell.execute_reply": "2023-08-29T18:25:51.276015Z",
     "shell.execute_reply.started": "2023-08-29T18:25:51.054601Z"
    },
    "tags": []
   },
   "outputs": [
    {
     "data": {
      "text/html": [
       "<div>\n",
       "<style scoped>\n",
       "    .dataframe tbody tr th:only-of-type {\n",
       "        vertical-align: middle;\n",
       "    }\n",
       "\n",
       "    .dataframe tbody tr th {\n",
       "        vertical-align: top;\n",
       "    }\n",
       "\n",
       "    .dataframe thead th {\n",
       "        text-align: right;\n",
       "    }\n",
       "</style>\n",
       "<table border=\"1\" class=\"dataframe\">\n",
       "  <thead>\n",
       "    <tr style=\"text-align: right;\">\n",
       "      <th></th>\n",
       "      <th>id</th>\n",
       "      <th>area</th>\n",
       "      <th>perimeter</th>\n",
       "      <th>norm_shape_index</th>\n",
       "      <th>n_vertices</th>\n",
       "      <th>Keep</th>\n",
       "      <th>width</th>\n",
       "      <th>height</th>\n",
       "      <th>wh_ratio</th>\n",
       "      <th>GHS_POP_2020</th>\n",
       "      <th>WorldPOP_2020_UNadj_constrained</th>\n",
       "      <th>EOG_NTL_2023_03</th>\n",
       "      <th>GLAD_2019_cropland</th>\n",
       "      <th>GLCLU_2020</th>\n",
       "      <th>ESA_2021</th>\n",
       "      <th>OSM_RoadDensity</th>\n",
       "    </tr>\n",
       "  </thead>\n",
       "  <tbody>\n",
       "    <tr>\n",
       "      <th>0</th>\n",
       "      <td>13</td>\n",
       "      <td>14.152117</td>\n",
       "      <td>15.059647</td>\n",
       "      <td>0.784155</td>\n",
       "      <td>5</td>\n",
       "      <td>1</td>\n",
       "      <td>3.824436</td>\n",
       "      <td>3.965743</td>\n",
       "      <td>0.964368</td>\n",
       "      <td>0.006431</td>\n",
       "      <td>0.019631</td>\n",
       "      <td>1.0</td>\n",
       "      <td>0.370582</td>\n",
       "      <td>250</td>\n",
       "      <td>30</td>\n",
       "      <td>84.514374</td>\n",
       "    </tr>\n",
       "    <tr>\n",
       "      <th>1</th>\n",
       "      <td>17</td>\n",
       "      <td>64.501318</td>\n",
       "      <td>34.585155</td>\n",
       "      <td>0.677640</td>\n",
       "      <td>5</td>\n",
       "      <td>1</td>\n",
       "      <td>5.447710</td>\n",
       "      <td>11.848945</td>\n",
       "      <td>0.459763</td>\n",
       "      <td>0.046194</td>\n",
       "      <td>0.095135</td>\n",
       "      <td>1.0</td>\n",
       "      <td>0.000000</td>\n",
       "      <td>250</td>\n",
       "      <td>50</td>\n",
       "      <td>0.000000</td>\n",
       "    </tr>\n",
       "    <tr>\n",
       "      <th>2</th>\n",
       "      <td>34</td>\n",
       "      <td>48.662439</td>\n",
       "      <td>28.971631</td>\n",
       "      <td>0.728547</td>\n",
       "      <td>5</td>\n",
       "      <td>1</td>\n",
       "      <td>5.298423</td>\n",
       "      <td>9.196961</td>\n",
       "      <td>0.576106</td>\n",
       "      <td>0.795359</td>\n",
       "      <td>0.252097</td>\n",
       "      <td>18.0</td>\n",
       "      <td>0.000000</td>\n",
       "      <td>250</td>\n",
       "      <td>50</td>\n",
       "      <td>262.496552</td>\n",
       "    </tr>\n",
       "    <tr>\n",
       "      <th>3</th>\n",
       "      <td>132</td>\n",
       "      <td>17.161322</td>\n",
       "      <td>17.117221</td>\n",
       "      <td>0.736028</td>\n",
       "      <td>5</td>\n",
       "      <td>1</td>\n",
       "      <td>3.480963</td>\n",
       "      <td>5.418265</td>\n",
       "      <td>0.642450</td>\n",
       "      <td>0.088728</td>\n",
       "      <td>0.067500</td>\n",
       "      <td>1.0</td>\n",
       "      <td>0.000000</td>\n",
       "      <td>250</td>\n",
       "      <td>50</td>\n",
       "      <td>84.613380</td>\n",
       "    </tr>\n",
       "    <tr>\n",
       "      <th>4</th>\n",
       "      <td>143</td>\n",
       "      <td>317.258561</td>\n",
       "      <td>100.326332</td>\n",
       "      <td>0.396090</td>\n",
       "      <td>5</td>\n",
       "      <td>0</td>\n",
       "      <td>7.424374</td>\n",
       "      <td>42.941203</td>\n",
       "      <td>0.172896</td>\n",
       "      <td>0.000000</td>\n",
       "      <td>0.000000</td>\n",
       "      <td>0.0</td>\n",
       "      <td>0.000000</td>\n",
       "      <td>122</td>\n",
       "      <td>40</td>\n",
       "      <td>0.000000</td>\n",
       "    </tr>\n",
       "  </tbody>\n",
       "</table>\n",
       "</div>"
      ],
      "text/plain": [
       "    id        area   perimeter  norm_shape_index  n_vertices  Keep     width  \\\n",
       "0   13   14.152117   15.059647          0.784155           5     1  3.824436   \n",
       "1   17   64.501318   34.585155          0.677640           5     1  5.447710   \n",
       "2   34   48.662439   28.971631          0.728547           5     1  5.298423   \n",
       "3  132   17.161322   17.117221          0.736028           5     1  3.480963   \n",
       "4  143  317.258561  100.326332          0.396090           5     0  7.424374   \n",
       "\n",
       "      height  wh_ratio  GHS_POP_2020  WorldPOP_2020_UNadj_constrained  \\\n",
       "0   3.965743  0.964368      0.006431                         0.019631   \n",
       "1  11.848945  0.459763      0.046194                         0.095135   \n",
       "2   9.196961  0.576106      0.795359                         0.252097   \n",
       "3   5.418265  0.642450      0.088728                         0.067500   \n",
       "4  42.941203  0.172896      0.000000                         0.000000   \n",
       "\n",
       "   EOG_NTL_2023_03  GLAD_2019_cropland  GLCLU_2020  ESA_2021  OSM_RoadDensity  \n",
       "0              1.0            0.370582         250        30        84.514374  \n",
       "1              1.0            0.000000         250        50         0.000000  \n",
       "2             18.0            0.000000         250        50       262.496552  \n",
       "3              1.0            0.000000         250        50        84.613380  \n",
       "4              0.0            0.000000         122        40         0.000000  "
      ]
     },
     "execution_count": 2,
     "metadata": {},
     "output_type": "execute_result"
    }
   ],
   "source": [
    "# Reading the data from the .csv file\n",
    "dfData = pd.read_csv('./ms_osm_buildings_syria_fix_sf_32637_training_v3.csv')\n",
    "gc.collect()\n",
    "dfData.head(5)"
   ]
  },
  {
   "cell_type": "markdown",
   "id": "f7fecfe5-f184-4b00-a4de-35c778896a56",
   "metadata": {},
   "source": [
    "## Defining the pipeline of the model"
   ]
  },
  {
   "cell_type": "code",
   "execution_count": 3,
   "id": "1fdb6562-c806-4834-a647-1ab0ba28a04e",
   "metadata": {
    "execution": {
     "iopub.execute_input": "2023-08-29T18:25:51.277514Z",
     "iopub.status.busy": "2023-08-29T18:25:51.277375Z",
     "iopub.status.idle": "2023-08-29T18:25:51.285470Z",
     "shell.execute_reply": "2023-08-29T18:25:51.284991Z",
     "shell.execute_reply.started": "2023-08-29T18:25:51.277503Z"
    },
    "tags": []
   },
   "outputs": [],
   "source": [
    "# Defining a function to help plotting the results\n",
    "def plot_tfdf_model_training_curves(model):\n",
    "    # This function was adapted from the following tutorial:\n",
    "    # https://www.tensorflow.org/decision_forests/tutorials/beginner_colab\n",
    "    logs = model.make_inspector().training_logs()\n",
    "    plt.figure(figsize=(12, 4))\n",
    "    # Plot accuracy vs number of trees\n",
    "    plt.subplot(1, 2, 1)\n",
    "    plt.plot([log.num_trees for log in logs], [log.evaluation.accuracy for log in logs])\n",
    "    plt.xlabel('Number of trees')\n",
    "    plt.ylabel('Accuracy (out-of-bag)')\n",
    "    # Plot loss vs number of trees\n",
    "    plt.subplot(1, 2, 2)\n",
    "    plt.plot([log.num_trees for log in logs], [log.evaluation.loss for log in logs])\n",
    "    plt.xlabel('Number of trees')\n",
    "    plt.ylabel('Logloss (out-of-bag)')\n",
    "    # Show the plot\n",
    "    plt.show()\n",
    "\n",
    "def plot_tfdf_confusion_matrix(obsv_data, pred_data, labels=None):\n",
    "    # Computing the confusion matrix\n",
    "    cm = confusion_matrix(obsv_data, pred_data)\n",
    "    # Displaying the confusion matrix\n",
    "    cm_plt = ConfusionMatrixDisplay(confusion_matrix=cm, display_labels=labels)\n",
    "    cm_plt.plot(cmap=plt.cm.Blues)\n",
    "    return(cm_plt)\n",
    "\n",
    "def run_experiment(model, train_data, test_data, target_column_name, weight_column_name=None, class_weight=None, num_epochs=1, plots=False):\n",
    "    # Defining the training and test datasets\n",
    "    train_dataset = tfdf.keras.pd_dataframe_to_tf_dataset(train_data, label=target_column_name, weight=weight_column_name)\n",
    "    test_dataset  = tfdf.keras.pd_dataframe_to_tf_dataset(test_data,  label=target_column_name, weight=weight_column_name)\n",
    "    # Training the model\n",
    "    model.fit(train_dataset, class_weight=class_weight, epochs=num_epochs, verbose=0)\n",
    "    # Showing the results\n",
    "    _, acc, acc_wgt = model.evaluate(train_dataset, verbose=0); \n",
    "    print(f'Train accuracy: {round(acc*100,2)}% \\t| Train weighted_accuracy: {round(acc_wgt*100,2)}%')\n",
    "    _, acc, acc_wgt = model.evaluate(test_dataset,  verbose=0); \n",
    "    print(f'Test accuracy:  {round(acc*100,2)}% \\t| Test weighted_accuracy:  {round(acc_wgt*100,2)}%')\n",
    "    if plots==True:\n",
    "        # Plotting the Accuracy and Logloss\n",
    "        plot_tfdf_model_training_curves(model)\n",
    "        # Plotting the confusion matrix\n",
    "        labels = ['False','True']\n",
    "        fig, ax = plt.subplots(1, 2, figsize=(12, 4), sharey='row')\n",
    "        plt.subplots_adjust(right = 0.8)\n",
    "        # Train test - confusion matrix\n",
    "        cm = confusion_matrix(list(train_data[target_column_name]), np.round(model.predict(train_dataset,verbose=0),0))\n",
    "        cm_plt = ConfusionMatrixDisplay(confusion_matrix=cm, display_labels=labels)\n",
    "        cm_plt.plot(ax=ax[0])\n",
    "        cm_plt.ax_.set_title('Train')\n",
    "        # Test test - confusion matrix\n",
    "        cm = confusion_matrix(list(test_data[target_column_name]), np.round(model.predict(test_dataset,verbose=0),0))\n",
    "        print(f'Test False recall:  {round((cm[0,0]/np.sum(cm[0,:]))*100,2)}%')\n",
    "        print(f'Test True  recall:  {round((cm[1,1]/np.sum(cm[1,:]))*100,2)}%')\n",
    "        cm_plt = ConfusionMatrixDisplay(confusion_matrix=cm, display_labels=labels)\n",
    "        cm_plt.plot(ax=ax[1])\n",
    "        cm_plt.ax_.set_title('Test')\n",
    "        # Plotting the results\n",
    "        plt.show()\n",
    "        # Plotting the variable importance\n",
    "        inspector = model.make_inspector()\n",
    "        var_imp = inspector.variable_importances()[\"SUM_SCORE\"]\n",
    "        var_imp_nam = list(reversed([str(x) for x,_ in var_imp][0:10]))\n",
    "        var_imp_nam = [txt.split('\"')[1] for txt in var_imp_nam]\n",
    "        var_imp_val = list(reversed([int(x) for _,x in var_imp][0:10]))\n",
    "        var_imp_val = var_imp_val/np.sum(var_imp_val)\n",
    "        plt.barh(var_imp_nam, var_imp_val)\n",
    "        plt.title('Top 10 Features')\n",
    "        plt.xlabel(\"Relative SUM_SCORE Feature Importance\")\n",
    "        # Plotting the results\n",
    "        plt.show()"
   ]
  },
  {
   "cell_type": "code",
   "execution_count": 4,
   "id": "b8b42d4c-d82e-413e-893e-89c9032163dd",
   "metadata": {
    "execution": {
     "iopub.execute_input": "2023-08-29T18:25:51.286155Z",
     "iopub.status.busy": "2023-08-29T18:25:51.286007Z",
     "iopub.status.idle": "2023-08-29T18:25:51.288847Z",
     "shell.execute_reply": "2023-08-29T18:25:51.288397Z",
     "shell.execute_reply.started": "2023-08-29T18:25:51.286142Z"
    },
    "tags": []
   },
   "outputs": [],
   "source": [
    "# Selecting the target and feature variables\n",
    "tgt = ['Keep']\n",
    "# Selecting the column names to be used as the feature variables\n",
    "feats = [\n",
    "    'area',\n",
    "    'perimeter',\n",
    "    'norm_shape_index',\n",
    "    'width',\n",
    "    'height',\n",
    "    'wh_ratio',\n",
    "    'n_vertices',\n",
    "    'GHS_POP_2020',\n",
    "    'WorldPOP_2020_UNadj_constrained',\n",
    "    'EOG_NTL_2023_03',\n",
    "    'GLAD_2019_cropland',\n",
    "    'GLCLU_2020',\n",
    "    'ESA_2021',\n",
    "    'OSM_RoadDensity',\n",
    "]"
   ]
  },
  {
   "cell_type": "markdown",
   "id": "0c49db87-1112-48e7-bad7-9936dcfe024c",
   "metadata": {},
   "source": [
    "## Gradient Boosted Trees regression model\n",
    "\n",
    "### Using class_weights"
   ]
  },
  {
   "cell_type": "code",
   "execution_count": 5,
   "id": "15e578c9-e39d-46e3-9c84-680da3fd1296",
   "metadata": {
    "execution": {
     "iopub.execute_input": "2023-08-29T18:25:51.289650Z",
     "iopub.status.busy": "2023-08-29T18:25:51.289349Z",
     "iopub.status.idle": "2023-08-29T18:25:51.310712Z",
     "shell.execute_reply": "2023-08-29T18:25:51.310291Z",
     "shell.execute_reply.started": "2023-08-29T18:25:51.289630Z"
    },
    "tags": []
   },
   "outputs": [
    {
     "name": "stdout",
     "output_type": "stream",
     "text": [
      "Using sample_weights: \n",
      "Keep\n",
      "0    1.0000\n",
      "1    0.5181\n",
      "Name: count, dtype: float64\n",
      "(27133, 16)\n"
     ]
    },
    {
     "name": "stderr",
     "output_type": "stream",
     "text": [
      "/tmp/ipykernel_6629/742790811.py:8: SettingWithCopyWarning: \n",
      "A value is trying to be set on a copy of a slice from a DataFrame\n",
      "\n",
      "See the caveats in the documentation: https://pandas.pydata.org/pandas-docs/stable/user_guide/indexing.html#returning-a-view-versus-a-copy\n",
      "  dfRes['idTrainTest'] = 'test'; dfRes['idTrainTest'][0:X_train.shape[0]] = 'train'\n"
     ]
    }
   ],
   "source": [
    "# Defining the dataset of interest\n",
    "dfRun = pd.DataFrame.copy(dfData)\n",
    "dfRun = dfRun[['id']+feats+tgt]\n",
    "# Splitting the data into training and test sets.\n",
    "X_train, X_test = train_test_split(dfRun, test_size=0.20, shuffle=True)\n",
    "# Creating the results data.frame and adding the id train/test\n",
    "dfRes = pd.concat([X_train,X_test])[['id']+tgt]\n",
    "dfRes['idTrainTest'] = 'test'; dfRes['idTrainTest'][0:X_train.shape[0]] = 'train'\n",
    "# Dropping the id column in the training and test datasets\n",
    "X_train = X_train[feats+tgt]\n",
    "X_test = X_test[feats+tgt]\n",
    "# Computing the importance/weights of the classes\n",
    "wgt = 1-X_train[tgt[0]].value_counts()/X_train[tgt[0]].shape[0]\n",
    "wgt = wgt**1\n",
    "wgt_norm = (wgt/max(wgt)).sort_index()\n",
    "X_train[str(tgt[0]+'_wgt')] = 0\n",
    "X_test[str(tgt[0]+'_wgt')] = 0\n",
    "for i in range(max(wgt_norm.index)+1):\n",
    "    X_train.loc[X_train[tgt[0]] == i, tgt[0]+'_wgt'] = wgt_norm[i]\n",
    "    X_test.loc[X_test[tgt[0]] == i, tgt[0]+'_wgt']   = wgt_norm[i]\n",
    "print('Using sample_weights: ')\n",
    "print(wgt_norm)\n",
    "print(X_train.shape)"
   ]
  },
  {
   "cell_type": "code",
   "execution_count": 6,
   "id": "56320a9c-c268-4c94-99a3-390efc5ae8e0",
   "metadata": {
    "execution": {
     "iopub.execute_input": "2023-08-29T18:25:51.311403Z",
     "iopub.status.busy": "2023-08-29T18:25:51.311231Z",
     "iopub.status.idle": "2023-08-29T18:26:02.933179Z",
     "shell.execute_reply": "2023-08-29T18:26:02.932684Z",
     "shell.execute_reply.started": "2023-08-29T18:25:51.311390Z"
    },
    "tags": []
   },
   "outputs": [
    {
     "name": "stderr",
     "output_type": "stream",
     "text": [
      "2023-08-29 20:25:51.392603: I tensorflow/compiler/xla/stream_executor/cuda/cuda_gpu_executor.cc:996] successful NUMA node read from SysFS had negative value (-1), but there must be at least one NUMA node, so returning NUMA node zero. See more at https://github.com/torvalds/linux/blob/v6.0/Documentation/ABI/testing/sysfs-bus-pci#L344-L355\n"
     ]
    },
    {
     "name": "stdout",
     "output_type": "stream",
     "text": [
      "Use /tmp/tmp_3bsbojz as temporary training directory\n"
     ]
    },
    {
     "name": "stderr",
     "output_type": "stream",
     "text": [
      "2023-08-29 20:25:51.461605: I tensorflow/compiler/xla/stream_executor/cuda/cuda_gpu_executor.cc:996] successful NUMA node read from SysFS had negative value (-1), but there must be at least one NUMA node, so returning NUMA node zero. See more at https://github.com/torvalds/linux/blob/v6.0/Documentation/ABI/testing/sysfs-bus-pci#L344-L355\n",
      "2023-08-29 20:25:51.461788: I tensorflow/compiler/xla/stream_executor/cuda/cuda_gpu_executor.cc:996] successful NUMA node read from SysFS had negative value (-1), but there must be at least one NUMA node, so returning NUMA node zero. See more at https://github.com/torvalds/linux/blob/v6.0/Documentation/ABI/testing/sysfs-bus-pci#L344-L355\n",
      "2023-08-29 20:25:51.463318: I tensorflow/compiler/xla/stream_executor/cuda/cuda_gpu_executor.cc:996] successful NUMA node read from SysFS had negative value (-1), but there must be at least one NUMA node, so returning NUMA node zero. See more at https://github.com/torvalds/linux/blob/v6.0/Documentation/ABI/testing/sysfs-bus-pci#L344-L355\n",
      "2023-08-29 20:25:51.463515: I tensorflow/compiler/xla/stream_executor/cuda/cuda_gpu_executor.cc:996] successful NUMA node read from SysFS had negative value (-1), but there must be at least one NUMA node, so returning NUMA node zero. See more at https://github.com/torvalds/linux/blob/v6.0/Documentation/ABI/testing/sysfs-bus-pci#L344-L355\n",
      "2023-08-29 20:25:51.463623: I tensorflow/compiler/xla/stream_executor/cuda/cuda_gpu_executor.cc:996] successful NUMA node read from SysFS had negative value (-1), but there must be at least one NUMA node, so returning NUMA node zero. See more at https://github.com/torvalds/linux/blob/v6.0/Documentation/ABI/testing/sysfs-bus-pci#L344-L355\n",
      "2023-08-29 20:25:51.536304: I tensorflow/compiler/xla/stream_executor/cuda/cuda_gpu_executor.cc:996] successful NUMA node read from SysFS had negative value (-1), but there must be at least one NUMA node, so returning NUMA node zero. See more at https://github.com/torvalds/linux/blob/v6.0/Documentation/ABI/testing/sysfs-bus-pci#L344-L355\n",
      "2023-08-29 20:25:51.536465: I tensorflow/compiler/xla/stream_executor/cuda/cuda_gpu_executor.cc:996] successful NUMA node read from SysFS had negative value (-1), but there must be at least one NUMA node, so returning NUMA node zero. See more at https://github.com/torvalds/linux/blob/v6.0/Documentation/ABI/testing/sysfs-bus-pci#L344-L355\n",
      "2023-08-29 20:25:51.536578: I tensorflow/compiler/xla/stream_executor/cuda/cuda_gpu_executor.cc:996] successful NUMA node read from SysFS had negative value (-1), but there must be at least one NUMA node, so returning NUMA node zero. See more at https://github.com/torvalds/linux/blob/v6.0/Documentation/ABI/testing/sysfs-bus-pci#L344-L355\n",
      "2023-08-29 20:25:51.536666: I tensorflow/core/common_runtime/gpu/gpu_device.cc:1635] Created device /job:localhost/replica:0/task:0/device:GPU:0 with 10395 MB memory:  -> device: 0, name: NVIDIA GeForce RTX 3060, pci bus id: 0000:10:00.0, compute capability: 8.6\n",
      "[WARNING 23-08-29 20:25:51.6653 CEST gradient_boosted_trees.cc:1818] \"goss_alpha\" set but \"sampling_method\" not equal to \"GOSS\".\n",
      "[WARNING 23-08-29 20:25:51.6653 CEST gradient_boosted_trees.cc:1829] \"goss_beta\" set but \"sampling_method\" not equal to \"GOSS\".\n",
      "[WARNING 23-08-29 20:25:51.6653 CEST gradient_boosted_trees.cc:1843] \"selective_gradient_boosting_ratio\" set but \"sampling_method\" not equal to \"SELGB\".\n",
      "2023-08-29 20:25:51.756779: I tensorflow/core/common_runtime/executor.cc:1197] [/device:CPU:0] (DEBUG INFO) Executor start aborting (this does not indicate an error and you can ignore this message): INVALID_ARGUMENT: You must feed a value for placeholder tensor 'Placeholder/_7' with dtype double and shape [27133]\n",
      "\t [[{{node Placeholder/_7}}]]\n",
      "[INFO 23-08-29 20:25:58.6282 CEST kernel.cc:1243] Loading model from path /tmp/tmp_3bsbojz/model/ with prefix c0096ff3447541bb\n",
      "[INFO 23-08-29 20:25:58.6314 CEST abstract_model.cc:1311] Engine \"GradientBoostedTreesQuickScorerExtended\" built\n",
      "[INFO 23-08-29 20:25:58.6314 CEST kernel.cc:1075] Use fast generic engine\n",
      "2023-08-29 20:25:58.645032: I tensorflow/core/common_runtime/executor.cc:1197] [/device:CPU:0] (DEBUG INFO) Executor start aborting (this does not indicate an error and you can ignore this message): INVALID_ARGUMENT: You must feed a value for placeholder tensor 'Placeholder/_9' with dtype int64 and shape [27133]\n",
      "\t [[{{node Placeholder/_9}}]]\n"
     ]
    },
    {
     "name": "stdout",
     "output_type": "stream",
     "text": [
      "WARNING:tensorflow:AutoGraph could not transform <function simple_ml_inference_op_with_handle at 0x7f5da481f880> and will run it as-is.\n",
      "Please report this to the TensorFlow team. When filing the bug, set the verbosity to 10 (on Linux, `export AUTOGRAPH_VERBOSITY=10`) and attach the full output.\n",
      "Cause: could not get source code\n",
      "To silence this warning, decorate the function with @tf.autograph.experimental.do_not_convert\n"
     ]
    },
    {
     "name": "stderr",
     "output_type": "stream",
     "text": [
      "WARNING:tensorflow:AutoGraph could not transform <function simple_ml_inference_op_with_handle at 0x7f5da481f880> and will run it as-is.\n",
      "Please report this to the TensorFlow team. When filing the bug, set the verbosity to 10 (on Linux, `export AUTOGRAPH_VERBOSITY=10`) and attach the full output.\n",
      "Cause: could not get source code\n",
      "To silence this warning, decorate the function with @tf.autograph.experimental.do_not_convert\n"
     ]
    },
    {
     "name": "stdout",
     "output_type": "stream",
     "text": [
      "WARNING: AutoGraph could not transform <function simple_ml_inference_op_with_handle at 0x7f5da481f880> and will run it as-is.\n",
      "Please report this to the TensorFlow team. When filing the bug, set the verbosity to 10 (on Linux, `export AUTOGRAPH_VERBOSITY=10`) and attach the full output.\n",
      "Cause: could not get source code\n",
      "To silence this warning, decorate the function with @tf.autograph.experimental.do_not_convert\n",
      "Train accuracy: 97.56% \t| Train weighted_accuracy: 97.31%\n"
     ]
    },
    {
     "name": "stderr",
     "output_type": "stream",
     "text": [
      "2023-08-29 20:26:00.234557: I tensorflow/core/common_runtime/executor.cc:1197] [/device:CPU:0] (DEBUG INFO) Executor start aborting (this does not indicate an error and you can ignore this message): INVALID_ARGUMENT: You must feed a value for placeholder tensor 'Placeholder/_1' with dtype int64 and shape [6784]\n",
      "\t [[{{node Placeholder/_1}}]]\n"
     ]
    },
    {
     "name": "stdout",
     "output_type": "stream",
     "text": [
      "Test accuracy:  97.18% \t| Test weighted_accuracy:  96.86%\n"
     ]
    },
    {
     "data": {
      "image/png": "[encoded data removed]",
      "text/plain": [
       "<Figure size 1200x400 with 2 Axes>"
      ]
     },
     "metadata": {},
     "output_type": "display_data"
    },
    {
     "name": "stdout",
     "output_type": "stream",
     "text": [
      "Test False recall:  95.84%\n",
      "Test True  recall:  97.89%\n"
     ]
    },
    {
     "data": {
      "image/png": "[encoded data removed]",
      "text/plain": [
       "<Figure size 1200x400 with 4 Axes>"
      ]
     },
     "metadata": {},
     "output_type": "display_data"
    },
    {
     "data": {
      "image/png": "[encoded data removed]",
      "text/plain": [
       "<Figure size 640x480 with 1 Axes>"
      ]
     },
     "metadata": {},
     "output_type": "display_data"
    },
    {
     "name": "stdout",
     "output_type": "stream",
     "text": [
      "WARNING:tensorflow:Model's `__init__()` arguments contain non-serializable objects. Please implement a `get_config()` method in the subclassed Model for proper saving and loading. Defaulting to empty config.\n"
     ]
    },
    {
     "name": "stderr",
     "output_type": "stream",
     "text": [
      "WARNING:tensorflow:Model's `__init__()` arguments contain non-serializable objects. Please implement a `get_config()` method in the subclassed Model for proper saving and loading. Defaulting to empty config.\n"
     ]
    },
    {
     "name": "stdout",
     "output_type": "stream",
     "text": [
      "WARNING:tensorflow:Model's `__init__()` arguments contain non-serializable objects. Please implement a `get_config()` method in the subclassed Model for proper saving and loading. Defaulting to empty config.\n"
     ]
    },
    {
     "name": "stderr",
     "output_type": "stream",
     "text": [
      "WARNING:tensorflow:Model's `__init__()` arguments contain non-serializable objects. Please implement a `get_config()` method in the subclassed Model for proper saving and loading. Defaulting to empty config.\n",
      "WARNING:absl:Function `_wrapped_model` contains input name(s) EOG_NTL_2023_03, ESA_2021, GHS_POP_2020, GLAD_2019_cropland, GLCLU_2020, OSM_RoadDensity, WorldPOP_2020_UNadj_constrained with unsupported characters which will be renamed to eog_ntl_2023_03, esa_2021, ghs_pop_2020, glad_2019_cropland, glclu_2020, osm_roaddensity, worldpop_2020_unadj_constrained in the SavedModel.\n",
      "WARNING:absl:Found untraced functions such as call_get_leaves, _update_step_xla while saving (showing 2 of 2). These functions will not be directly callable after loading.\n"
     ]
    },
    {
     "name": "stdout",
     "output_type": "stream",
     "text": [
      "INFO:tensorflow:Assets written to: ./classifier_tfdf_gbt_targetVar.Keep/assets\n"
     ]
    },
    {
     "name": "stderr",
     "output_type": "stream",
     "text": [
      "INFO:tensorflow:Assets written to: ./classifier_tfdf_gbt_targetVar.Keep/assets\n"
     ]
    },
    {
     "name": "stdout",
     "output_type": "stream",
     "text": [
      "WARNING:tensorflow:Model's `__init__()` arguments contain non-serializable objects. Please implement a `get_config()` method in the subclassed Model for proper saving and loading. Defaulting to empty config.\n"
     ]
    },
    {
     "name": "stderr",
     "output_type": "stream",
     "text": [
      "WARNING:tensorflow:Model's `__init__()` arguments contain non-serializable objects. Please implement a `get_config()` method in the subclassed Model for proper saving and loading. Defaulting to empty config.\n"
     ]
    },
    {
     "name": "stdout",
     "output_type": "stream",
     "text": [
      "WARNING:tensorflow:Model's `__init__()` arguments contain non-serializable objects. Please implement a `get_config()` method in the subclassed Model for proper saving and loading. Defaulting to empty config.\n"
     ]
    },
    {
     "name": "stderr",
     "output_type": "stream",
     "text": [
      "WARNING:tensorflow:Model's `__init__()` arguments contain non-serializable objects. Please implement a `get_config()` method in the subclassed Model for proper saving and loading. Defaulting to empty config.\n"
     ]
    },
    {
     "name": "stdout",
     "output_type": "stream",
     "text": [
      " 9/28 [========>.....................] - ETA: 0s"
     ]
    },
    {
     "name": "stderr",
     "output_type": "stream",
     "text": [
      "2023-08-29 20:26:02.567821: I tensorflow/core/common_runtime/executor.cc:1197] [/device:CPU:0] (DEBUG INFO) Executor start aborting (this does not indicate an error and you can ignore this message): INVALID_ARGUMENT: You must feed a value for placeholder tensor 'Placeholder/_11' with dtype double and shape [27133]\n",
      "\t [[{{node Placeholder/_11}}]]\n"
     ]
    },
    {
     "name": "stdout",
     "output_type": "stream",
     "text": [
      "28/28 [==============================] - 0s 6ms/step\n",
      "7/7 [==============================] - 0s 6ms/step\n"
     ]
    },
    {
     "name": "stderr",
     "output_type": "stream",
     "text": [
      "2023-08-29 20:26:02.797934: I tensorflow/core/common_runtime/executor.cc:1197] [/device:CPU:0] (DEBUG INFO) Executor start aborting (this does not indicate an error and you can ignore this message): INVALID_ARGUMENT: You must feed a value for placeholder tensor 'Placeholder/_8' with dtype double and shape [6784]\n",
      "\t [[{{node Placeholder/_8}}]]\n"
     ]
    }
   ],
   "source": [
    "# Creating the features object\n",
    "features = [tfdf.keras.FeatureUsage(name=feat) for feat in feats]\n",
    "# Initialising and training the model\n",
    "model_name = 'gbt'\n",
    "model_name = str('classifier_tfdf_'+model_name+'_targetVar.'+tgt[0])\n",
    "# Training the model    \n",
    "model = tfdf.keras.GradientBoostedTreesModel(features=features, \n",
    "                                             exclude_non_specified_features=True,\n",
    "                                             num_threads=16, \n",
    "                                             num_trees=2000,\n",
    "                                             max_depth=3,\n",
    "                                             min_examples=8,\n",
    "                                             sampling_method='RANDOM',\n",
    "                                             validation_ratio=0.25,\n",
    "                                             early_stopping='LOSS_INCREASE',\n",
    "                                             early_stopping_num_trees_look_ahead=100,\n",
    "                                             forest_extraction='MART',\n",
    "                                             growing_strategy='BEST_FIRST_GLOBAL',\n",
    "                                             max_num_nodes=3, # use -1 for no limits\n",
    "                                             task=tfdf.keras.Task.CLASSIFICATION,\n",
    "                                             loss='BINOMIAL_LOG_LIKELIHOOD',\n",
    "                                             categorical_algorithm='CART')#, \n",
    "                                             #hyperparameter_template=\"benchmark_rank1\")\n",
    "    \n",
    "model.compile(metrics=keras.metrics.BinaryAccuracy(name=\"accuracy\"), \n",
    "              weighted_metrics=keras.metrics.BinaryAccuracy(name=\"accuracy\"))\n",
    "run_experiment(model, X_train, X_test, target_column_name=tgt[0], weight_column_name=str(tgt[0]+'_wgt'), plots=True)\n",
    "model.save('./'+model_name)\n",
    "# Consolidating the results\n",
    "train_dataset = tfdf.keras.pd_dataframe_to_tf_dataset(X_train, label=tgt[0], weight=str(tgt[0]+'_wgt'), task=tfdf.keras.Task.CLASSIFICATION)\n",
    "test_dataset  = tfdf.keras.pd_dataframe_to_tf_dataset(X_test,  label=tgt[0], weight=str(tgt[0]+'_wgt'), task=tfdf.keras.Task.CLASSIFICATION)\n",
    "pred_train = np.round(model.predict(train_dataset, verbose=1),2)\n",
    "pred_test  = np.round(model.predict(test_dataset,  verbose=1),2)\n",
    "# Adding the results to dfRes\n",
    "dfRes[str('pred_'+tgt[0])] = np.concatenate([pred_train, pred_test], axis=0)\n",
    "# Saving the results to the disk\n",
    "dfRes.to_csv('./'+model_name+'/dfRes_'+tgt[0]+'.csv', index=False)"
   ]
  },
  {
   "cell_type": "code",
   "execution_count": 9,
   "id": "1f814e3f-7c77-4967-b91f-ceea5f617ec9",
   "metadata": {
    "execution": {
     "iopub.execute_input": "2023-08-29T18:26:55.956314Z",
     "iopub.status.busy": "2023-08-29T18:26:55.956166Z",
     "iopub.status.idle": "2023-08-29T18:27:05.638988Z",
     "shell.execute_reply": "2023-08-29T18:27:05.638556Z",
     "shell.execute_reply.started": "2023-08-29T18:26:55.956304Z"
    },
    "tags": []
   },
   "outputs": [
    {
     "name": "stdout",
     "output_type": "stream",
     "text": [
      " 11/620 [..............................] - ETA: 3s  "
     ]
    },
    {
     "name": "stderr",
     "output_type": "stream",
     "text": [
      "2023-08-29 20:26:56.592675: I tensorflow/core/common_runtime/executor.cc:1197] [/device:CPU:0] (DEBUG INFO) Executor start aborting (this does not indicate an error and you can ignore this message): INVALID_ARGUMENT: You must feed a value for placeholder tensor 'Placeholder/_12' with dtype double and shape [619219]\n",
      "\t [[{{node Placeholder/_12}}]]\n"
     ]
    },
    {
     "name": "stdout",
     "output_type": "stream",
     "text": [
      "620/620 [==============================] - 4s 6ms/step\n"
     ]
    }
   ],
   "source": [
    "# Computing the results for the original data\n",
    "dfDataPredict = pd.read_csv('./ms_osm_buildings_syria_fix_sf_32637_predictions_v3.csv')\n",
    "run_data = pd.DataFrame.copy(dfDataPredict)\n",
    "run_data = run_data[['id']+feats]\n",
    "run_dataset = tfdf.keras.pd_dataframe_to_tf_dataset(run_data, task=tfdf.keras.Task.CLASSIFICATION)\n",
    "run_pred = model.predict(run_dataset, verbose=1)\n",
    "df_pred = pd.DataFrame.copy(dfDataPredict)\n",
    "df_pred['pred'] = run_pred\n",
    "del(run_data,run_dataset,run_pred)\n",
    "gc.collect()\n",
    "\n",
    "# Saving results to .csv\n",
    "df_pred.to_csv('df_predictions.csv')"
   ]
  },
  {
   "cell_type": "code",
   "execution_count": null,
   "id": "4f2c3033-0c68-4f90-aacf-b44c0da82a7d",
   "metadata": {},
   "outputs": [],
   "source": []
  },
  {
   "cell_type": "code",
   "execution_count": null,
   "id": "f33344bb-2a24-4aa6-93ce-19deffd37932",
   "metadata": {},
   "outputs": [],
   "source": []
  },
  {
   "cell_type": "code",
   "execution_count": null,
   "id": "e66e0f5e-22c4-4b16-86b9-8f30cfa67308",
   "metadata": {},
   "outputs": [],
   "source": []
  },
  {
   "cell_type": "code",
   "execution_count": null,
   "id": "79664850-4386-4549-a177-86114d0bdf4e",
   "metadata": {},
   "outputs": [],
   "source": []
  },
  {
   "cell_type": "code",
   "execution_count": null,
   "id": "28dec847-ac82-4c88-8bf4-fa80f6e86cfe",
   "metadata": {},
   "outputs": [],
   "source": []
  },
  {
   "cell_type": "code",
   "execution_count": null,
   "id": "1cfcee24-573f-4390-bc96-7b70064b330b",
   "metadata": {},
   "outputs": [],
   "source": []
  },
  {
   "cell_type": "code",
   "execution_count": null,
   "id": "613c6480-e380-4302-a56f-a7e33be02f5c",
   "metadata": {},
   "outputs": [],
   "source": []
  },
  {
   "cell_type": "code",
   "execution_count": null,
   "id": "9f09ac37-7da5-4a6a-9fcb-b5f940a5163b",
   "metadata": {},
   "outputs": [],
   "source": []
  }
 ],
 "metadata": {
  "kernelspec": {
   "display_name": "Python 3 (ipykernel)",
   "language": "python",
   "name": "python3"
  },
  "language_info": {
   "codemirror_mode": {
    "name": "ipython",
    "version": 3
   },
   "file_extension": ".py",
   "mimetype": "text/x-python",
   "name": "python",
   "nbconvert_exporter": "python",
   "pygments_lexer": "ipython3",
   "version": "3.11.4"
  }
 },
 "nbformat": 4,
 "nbformat_minor": 5
}
